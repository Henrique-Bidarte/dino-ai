{
 "cells": [
  {
   "cell_type": "markdown",
   "metadata": {},
   "source": [
    "Install Dependencies"
   ]
  },
  {
   "cell_type": "code",
   "execution_count": 1,
   "metadata": {},
   "outputs": [
    {
     "name": "stdout",
     "output_type": "stream",
     "text": [
      "Looking in indexes: https://download.pytorch.org/whl/cu117\n",
      "Requirement already satisfied: torch in c:\\users\\henrique bidarte\\appdata\\local\\programs\\python\\python311\\lib\\site-packages (2.0.1+cu117)\n",
      "Requirement already satisfied: torchvision in c:\\users\\henrique bidarte\\appdata\\local\\programs\\python\\python311\\lib\\site-packages (0.15.2+cu117)\n",
      "Requirement already satisfied: torchaudio in c:\\users\\henrique bidarte\\appdata\\local\\programs\\python\\python311\\lib\\site-packages (2.0.2+cu117)\n",
      "Requirement already satisfied: filelock in c:\\users\\henrique bidarte\\appdata\\local\\programs\\python\\python311\\lib\\site-packages (from torch) (3.9.0)\n",
      "Requirement already satisfied: typing-extensions in c:\\users\\henrique bidarte\\appdata\\local\\programs\\python\\python311\\lib\\site-packages (from torch) (4.4.0)\n",
      "Requirement already satisfied: sympy in c:\\users\\henrique bidarte\\appdata\\local\\programs\\python\\python311\\lib\\site-packages (from torch) (1.11.1)\n",
      "Requirement already satisfied: networkx in c:\\users\\henrique bidarte\\appdata\\local\\programs\\python\\python311\\lib\\site-packages (from torch) (3.0)\n",
      "Requirement already satisfied: jinja2 in c:\\users\\henrique bidarte\\appdata\\local\\programs\\python\\python311\\lib\\site-packages (from torch) (3.1.2)\n",
      "Requirement already satisfied: numpy in c:\\users\\henrique bidarte\\appdata\\local\\programs\\python\\python311\\lib\\site-packages (from torchvision) (1.24.1)\n",
      "Requirement already satisfied: requests in c:\\users\\henrique bidarte\\appdata\\local\\programs\\python\\python311\\lib\\site-packages (from torchvision) (2.28.1)\n",
      "Requirement already satisfied: pillow!=8.3.*,>=5.3.0 in c:\\users\\henrique bidarte\\appdata\\local\\programs\\python\\python311\\lib\\site-packages (from torchvision) (9.3.0)\n",
      "Requirement already satisfied: MarkupSafe>=2.0 in c:\\users\\henrique bidarte\\appdata\\local\\programs\\python\\python311\\lib\\site-packages (from jinja2->torch) (2.1.2)\n",
      "Requirement already satisfied: charset-normalizer<3,>=2 in c:\\users\\henrique bidarte\\appdata\\local\\programs\\python\\python311\\lib\\site-packages (from requests->torchvision) (2.1.1)\n",
      "Requirement already satisfied: idna<4,>=2.5 in c:\\users\\henrique bidarte\\appdata\\local\\programs\\python\\python311\\lib\\site-packages (from requests->torchvision) (3.4)\n",
      "Requirement already satisfied: urllib3<1.27,>=1.21.1 in c:\\users\\henrique bidarte\\appdata\\local\\programs\\python\\python311\\lib\\site-packages (from requests->torchvision) (1.26.13)\n",
      "Requirement already satisfied: certifi>=2017.4.17 in c:\\users\\henrique bidarte\\appdata\\local\\programs\\python\\python311\\lib\\site-packages (from requests->torchvision) (2022.12.7)\n",
      "Requirement already satisfied: mpmath>=0.19 in c:\\users\\henrique bidarte\\appdata\\local\\programs\\python\\python311\\lib\\site-packages (from sympy->torch) (1.2.1)\n",
      "Note: you may need to restart the kernel to use updated packages.\n"
     ]
    }
   ],
   "source": [
    "%pip install torch torchvision torchaudio --index-url https://download.pytorch.org/whl/cu117"
   ]
  },
  {
   "cell_type": "code",
   "execution_count": 2,
   "metadata": {},
   "outputs": [
    {
     "name": "stdout",
     "output_type": "stream",
     "text": [
      "Requirement already satisfied: stable-baselines3[extra] in c:\\users\\henrique bidarte\\appdata\\local\\programs\\python\\python311\\lib\\site-packages (2.1.0)\n",
      "Requirement already satisfied: protobuf==3.20.* in c:\\users\\henrique bidarte\\appdata\\local\\programs\\python\\python311\\lib\\site-packages (3.20.3)\n",
      "Requirement already satisfied: gymnasium<0.30,>=0.28.1 in c:\\users\\henrique bidarte\\appdata\\local\\programs\\python\\python311\\lib\\site-packages (from stable-baselines3[extra]) (0.29.1)\n",
      "Requirement already satisfied: numpy>=1.20 in c:\\users\\henrique bidarte\\appdata\\local\\programs\\python\\python311\\lib\\site-packages (from stable-baselines3[extra]) (1.24.1)\n",
      "Requirement already satisfied: torch>=1.13 in c:\\users\\henrique bidarte\\appdata\\local\\programs\\python\\python311\\lib\\site-packages (from stable-baselines3[extra]) (2.0.1+cu117)\n",
      "Requirement already satisfied: cloudpickle in c:\\users\\henrique bidarte\\appdata\\local\\programs\\python\\python311\\lib\\site-packages (from stable-baselines3[extra]) (2.2.1)\n",
      "Requirement already satisfied: pandas in c:\\users\\henrique bidarte\\appdata\\local\\programs\\python\\python311\\lib\\site-packages (from stable-baselines3[extra]) (2.1.1)\n",
      "Requirement already satisfied: matplotlib in c:\\users\\henrique bidarte\\appdata\\local\\programs\\python\\python311\\lib\\site-packages (from stable-baselines3[extra]) (3.8.0)\n",
      "Requirement already satisfied: opencv-python in c:\\users\\henrique bidarte\\appdata\\local\\programs\\python\\python311\\lib\\site-packages (from stable-baselines3[extra]) (4.8.1.78)\n",
      "Requirement already satisfied: pygame in c:\\users\\henrique bidarte\\appdata\\local\\programs\\python\\python311\\lib\\site-packages (from stable-baselines3[extra]) (2.5.2)\n",
      "Requirement already satisfied: tensorboard>=2.9.1 in c:\\users\\henrique bidarte\\appdata\\local\\programs\\python\\python311\\lib\\site-packages (from stable-baselines3[extra]) (2.14.1)\n",
      "Requirement already satisfied: psutil in c:\\users\\henrique bidarte\\appdata\\roaming\\python\\python311\\site-packages (from stable-baselines3[extra]) (5.9.5)\n",
      "Requirement already satisfied: tqdm in c:\\users\\henrique bidarte\\appdata\\local\\programs\\python\\python311\\lib\\site-packages (from stable-baselines3[extra]) (4.66.1)\n",
      "Requirement already satisfied: rich in c:\\users\\henrique bidarte\\appdata\\local\\programs\\python\\python311\\lib\\site-packages (from stable-baselines3[extra]) (13.6.0)\n",
      "Requirement already satisfied: shimmy[atari]~=1.1.0 in c:\\users\\henrique bidarte\\appdata\\local\\programs\\python\\python311\\lib\\site-packages (from stable-baselines3[extra]) (1.1.0)\n",
      "Requirement already satisfied: pillow in c:\\users\\henrique bidarte\\appdata\\local\\programs\\python\\python311\\lib\\site-packages (from stable-baselines3[extra]) (9.3.0)\n",
      "Requirement already satisfied: autorom[accept-rom-license]~=0.6.1 in c:\\users\\henrique bidarte\\appdata\\local\\programs\\python\\python311\\lib\\site-packages (from stable-baselines3[extra]) (0.6.1)\n",
      "Requirement already satisfied: click in c:\\users\\henrique bidarte\\appdata\\local\\programs\\python\\python311\\lib\\site-packages (from autorom[accept-rom-license]~=0.6.1->stable-baselines3[extra]) (8.1.7)\n",
      "Requirement already satisfied: requests in c:\\users\\henrique bidarte\\appdata\\local\\programs\\python\\python311\\lib\\site-packages (from autorom[accept-rom-license]~=0.6.1->stable-baselines3[extra]) (2.28.1)\n",
      "Requirement already satisfied: AutoROM.accept-rom-license in c:\\users\\henrique bidarte\\appdata\\local\\programs\\python\\python311\\lib\\site-packages (from autorom[accept-rom-license]~=0.6.1->stable-baselines3[extra]) (0.6.1)\n",
      "Requirement already satisfied: typing-extensions>=4.3.0 in c:\\users\\henrique bidarte\\appdata\\local\\programs\\python\\python311\\lib\\site-packages (from gymnasium<0.30,>=0.28.1->stable-baselines3[extra]) (4.4.0)\n",
      "Requirement already satisfied: farama-notifications>=0.0.1 in c:\\users\\henrique bidarte\\appdata\\local\\programs\\python\\python311\\lib\\site-packages (from gymnasium<0.30,>=0.28.1->stable-baselines3[extra]) (0.0.4)\n",
      "Requirement already satisfied: ale-py~=0.8.1 in c:\\users\\henrique bidarte\\appdata\\local\\programs\\python\\python311\\lib\\site-packages (from shimmy[atari]~=1.1.0->stable-baselines3[extra]) (0.8.1)\n",
      "Requirement already satisfied: absl-py>=0.4 in c:\\users\\henrique bidarte\\appdata\\local\\programs\\python\\python311\\lib\\site-packages (from tensorboard>=2.9.1->stable-baselines3[extra]) (2.0.0)\n",
      "Requirement already satisfied: grpcio>=1.48.2 in c:\\users\\henrique bidarte\\appdata\\local\\programs\\python\\python311\\lib\\site-packages (from tensorboard>=2.9.1->stable-baselines3[extra]) (1.59.0)\n",
      "Requirement already satisfied: google-auth<3,>=1.6.3 in c:\\users\\henrique bidarte\\appdata\\local\\programs\\python\\python311\\lib\\site-packages (from tensorboard>=2.9.1->stable-baselines3[extra]) (2.23.2)\n",
      "Requirement already satisfied: google-auth-oauthlib<1.1,>=0.5 in c:\\users\\henrique bidarte\\appdata\\local\\programs\\python\\python311\\lib\\site-packages (from tensorboard>=2.9.1->stable-baselines3[extra]) (1.0.0)\n",
      "Requirement already satisfied: markdown>=2.6.8 in c:\\users\\henrique bidarte\\appdata\\local\\programs\\python\\python311\\lib\\site-packages (from tensorboard>=2.9.1->stable-baselines3[extra]) (3.4.4)\n",
      "Requirement already satisfied: setuptools>=41.0.0 in c:\\users\\henrique bidarte\\appdata\\local\\programs\\python\\python311\\lib\\site-packages (from tensorboard>=2.9.1->stable-baselines3[extra]) (65.5.0)\n",
      "Requirement already satisfied: six>1.9 in c:\\users\\henrique bidarte\\appdata\\roaming\\python\\python311\\site-packages (from tensorboard>=2.9.1->stable-baselines3[extra]) (1.16.0)\n",
      "Requirement already satisfied: tensorboard-data-server<0.8.0,>=0.7.0 in c:\\users\\henrique bidarte\\appdata\\local\\programs\\python\\python311\\lib\\site-packages (from tensorboard>=2.9.1->stable-baselines3[extra]) (0.7.1)\n",
      "Requirement already satisfied: werkzeug>=1.0.1 in c:\\users\\henrique bidarte\\appdata\\local\\programs\\python\\python311\\lib\\site-packages (from tensorboard>=2.9.1->stable-baselines3[extra]) (3.0.0)\n",
      "Requirement already satisfied: filelock in c:\\users\\henrique bidarte\\appdata\\local\\programs\\python\\python311\\lib\\site-packages (from torch>=1.13->stable-baselines3[extra]) (3.9.0)\n",
      "Requirement already satisfied: sympy in c:\\users\\henrique bidarte\\appdata\\local\\programs\\python\\python311\\lib\\site-packages (from torch>=1.13->stable-baselines3[extra]) (1.11.1)\n",
      "Requirement already satisfied: networkx in c:\\users\\henrique bidarte\\appdata\\local\\programs\\python\\python311\\lib\\site-packages (from torch>=1.13->stable-baselines3[extra]) (3.0)\n",
      "Requirement already satisfied: jinja2 in c:\\users\\henrique bidarte\\appdata\\local\\programs\\python\\python311\\lib\\site-packages (from torch>=1.13->stable-baselines3[extra]) (3.1.2)\n",
      "Requirement already satisfied: contourpy>=1.0.1 in c:\\users\\henrique bidarte\\appdata\\local\\programs\\python\\python311\\lib\\site-packages (from matplotlib->stable-baselines3[extra]) (1.1.1)\n",
      "Requirement already satisfied: cycler>=0.10 in c:\\users\\henrique bidarte\\appdata\\local\\programs\\python\\python311\\lib\\site-packages (from matplotlib->stable-baselines3[extra]) (0.12.0)\n",
      "Requirement already satisfied: fonttools>=4.22.0 in c:\\users\\henrique bidarte\\appdata\\local\\programs\\python\\python311\\lib\\site-packages (from matplotlib->stable-baselines3[extra]) (4.43.0)\n",
      "Requirement already satisfied: kiwisolver>=1.0.1 in c:\\users\\henrique bidarte\\appdata\\local\\programs\\python\\python311\\lib\\site-packages (from matplotlib->stable-baselines3[extra]) (1.4.5)\n",
      "Requirement already satisfied: packaging>=20.0 in c:\\users\\henrique bidarte\\appdata\\roaming\\python\\python311\\site-packages (from matplotlib->stable-baselines3[extra]) (23.2)\n",
      "Requirement already satisfied: pyparsing>=2.3.1 in c:\\users\\henrique bidarte\\appdata\\local\\programs\\python\\python311\\lib\\site-packages (from matplotlib->stable-baselines3[extra]) (3.1.1)\n",
      "Requirement already satisfied: python-dateutil>=2.7 in c:\\users\\henrique bidarte\\appdata\\roaming\\python\\python311\\site-packages (from matplotlib->stable-baselines3[extra]) (2.8.2)\n",
      "Requirement already satisfied: pytz>=2020.1 in c:\\users\\henrique bidarte\\appdata\\local\\programs\\python\\python311\\lib\\site-packages (from pandas->stable-baselines3[extra]) (2023.3.post1)\n",
      "Requirement already satisfied: tzdata>=2022.1 in c:\\users\\henrique bidarte\\appdata\\local\\programs\\python\\python311\\lib\\site-packages (from pandas->stable-baselines3[extra]) (2023.3)\n",
      "Requirement already satisfied: markdown-it-py>=2.2.0 in c:\\users\\henrique bidarte\\appdata\\local\\programs\\python\\python311\\lib\\site-packages (from rich->stable-baselines3[extra]) (3.0.0)\n",
      "Requirement already satisfied: pygments<3.0.0,>=2.13.0 in c:\\users\\henrique bidarte\\appdata\\roaming\\python\\python311\\site-packages (from rich->stable-baselines3[extra]) (2.16.1)\n",
      "Requirement already satisfied: colorama in c:\\users\\henrique bidarte\\appdata\\roaming\\python\\python311\\site-packages (from tqdm->stable-baselines3[extra]) (0.4.6)\n",
      "Requirement already satisfied: importlib-resources in c:\\users\\henrique bidarte\\appdata\\local\\programs\\python\\python311\\lib\\site-packages (from ale-py~=0.8.1->shimmy[atari]~=1.1.0->stable-baselines3[extra]) (6.1.0)\n",
      "Requirement already satisfied: cachetools<6.0,>=2.0.0 in c:\\users\\henrique bidarte\\appdata\\local\\programs\\python\\python311\\lib\\site-packages (from google-auth<3,>=1.6.3->tensorboard>=2.9.1->stable-baselines3[extra]) (5.3.1)\n",
      "Requirement already satisfied: pyasn1-modules>=0.2.1 in c:\\users\\henrique bidarte\\appdata\\local\\programs\\python\\python311\\lib\\site-packages (from google-auth<3,>=1.6.3->tensorboard>=2.9.1->stable-baselines3[extra]) (0.3.0)\n",
      "Requirement already satisfied: rsa<5,>=3.1.4 in c:\\users\\henrique bidarte\\appdata\\local\\programs\\python\\python311\\lib\\site-packages (from google-auth<3,>=1.6.3->tensorboard>=2.9.1->stable-baselines3[extra]) (4.9)\n",
      "Requirement already satisfied: requests-oauthlib>=0.7.0 in c:\\users\\henrique bidarte\\appdata\\local\\programs\\python\\python311\\lib\\site-packages (from google-auth-oauthlib<1.1,>=0.5->tensorboard>=2.9.1->stable-baselines3[extra]) (1.3.1)\n",
      "Requirement already satisfied: mdurl~=0.1 in c:\\users\\henrique bidarte\\appdata\\local\\programs\\python\\python311\\lib\\site-packages (from markdown-it-py>=2.2.0->rich->stable-baselines3[extra]) (0.1.2)\n",
      "Requirement already satisfied: charset-normalizer<3,>=2 in c:\\users\\henrique bidarte\\appdata\\local\\programs\\python\\python311\\lib\\site-packages (from requests->autorom[accept-rom-license]~=0.6.1->stable-baselines3[extra]) (2.1.1)\n",
      "Requirement already satisfied: idna<4,>=2.5 in c:\\users\\henrique bidarte\\appdata\\local\\programs\\python\\python311\\lib\\site-packages (from requests->autorom[accept-rom-license]~=0.6.1->stable-baselines3[extra]) (3.4)\n",
      "Requirement already satisfied: urllib3<1.27,>=1.21.1 in c:\\users\\henrique bidarte\\appdata\\local\\programs\\python\\python311\\lib\\site-packages (from requests->autorom[accept-rom-license]~=0.6.1->stable-baselines3[extra]) (1.26.13)\n",
      "Requirement already satisfied: certifi>=2017.4.17 in c:\\users\\henrique bidarte\\appdata\\local\\programs\\python\\python311\\lib\\site-packages (from requests->autorom[accept-rom-license]~=0.6.1->stable-baselines3[extra]) (2022.12.7)\n",
      "Requirement already satisfied: MarkupSafe>=2.1.1 in c:\\users\\henrique bidarte\\appdata\\local\\programs\\python\\python311\\lib\\site-packages (from werkzeug>=1.0.1->tensorboard>=2.9.1->stable-baselines3[extra]) (2.1.2)\n",
      "Requirement already satisfied: mpmath>=0.19 in c:\\users\\henrique bidarte\\appdata\\local\\programs\\python\\python311\\lib\\site-packages (from sympy->torch>=1.13->stable-baselines3[extra]) (1.2.1)\n",
      "Requirement already satisfied: pyasn1<0.6.0,>=0.4.6 in c:\\users\\henrique bidarte\\appdata\\local\\programs\\python\\python311\\lib\\site-packages (from pyasn1-modules>=0.2.1->google-auth<3,>=1.6.3->tensorboard>=2.9.1->stable-baselines3[extra]) (0.5.0)\n",
      "Requirement already satisfied: oauthlib>=3.0.0 in c:\\users\\henrique bidarte\\appdata\\local\\programs\\python\\python311\\lib\\site-packages (from requests-oauthlib>=0.7.0->google-auth-oauthlib<1.1,>=0.5->tensorboard>=2.9.1->stable-baselines3[extra]) (3.2.2)\n",
      "Note: you may need to restart the kernel to use updated packages.\n"
     ]
    }
   ],
   "source": [
    "%pip install stable-baselines3[extra] protobuf==3.20.*"
   ]
  },
  {
   "cell_type": "code",
   "execution_count": 3,
   "metadata": {},
   "outputs": [
    {
     "name": "stdout",
     "output_type": "stream",
     "text": [
      "Requirement already satisfied: mss in c:\\users\\henrique bidarte\\appdata\\local\\programs\\python\\python311\\lib\\site-packages (9.0.1)\n",
      "Requirement already satisfied: pydirectinput in c:\\users\\henrique bidarte\\appdata\\local\\programs\\python\\python311\\lib\\site-packages (1.0.4)\n",
      "Requirement already satisfied: pytesseract in c:\\users\\henrique bidarte\\appdata\\local\\programs\\python\\python311\\lib\\site-packages (0.3.10)\n",
      "Requirement already satisfied: tesseract in c:\\users\\henrique bidarte\\appdata\\local\\programs\\python\\python311\\lib\\site-packages (0.1.3)\n",
      "Requirement already satisfied: packaging>=21.3 in c:\\users\\henrique bidarte\\appdata\\roaming\\python\\python311\\site-packages (from pytesseract) (23.2)\n",
      "Requirement already satisfied: Pillow>=8.0.0 in c:\\users\\henrique bidarte\\appdata\\local\\programs\\python\\python311\\lib\\site-packages (from pytesseract) (9.3.0)\n",
      "Note: you may need to restart the kernel to use updated packages.\n"
     ]
    }
   ],
   "source": [
    "%pip install mss pydirectinput pytesseract tesseract"
   ]
  },
  {
   "cell_type": "code",
   "execution_count": 4,
   "metadata": {},
   "outputs": [
    {
     "name": "stdout",
     "output_type": "stream",
     "text": [
      "Requirement already satisfied: gymnasium in c:\\users\\henrique bidarte\\appdata\\local\\programs\\python\\python311\\lib\\site-packages (0.29.1)\n",
      "Requirement already satisfied: numpy>=1.21.0 in c:\\users\\henrique bidarte\\appdata\\local\\programs\\python\\python311\\lib\\site-packages (from gymnasium) (1.24.1)\n",
      "Requirement already satisfied: cloudpickle>=1.2.0 in c:\\users\\henrique bidarte\\appdata\\local\\programs\\python\\python311\\lib\\site-packages (from gymnasium) (2.2.1)\n",
      "Requirement already satisfied: typing-extensions>=4.3.0 in c:\\users\\henrique bidarte\\appdata\\local\\programs\\python\\python311\\lib\\site-packages (from gymnasium) (4.4.0)\n",
      "Requirement already satisfied: farama-notifications>=0.0.1 in c:\\users\\henrique bidarte\\appdata\\local\\programs\\python\\python311\\lib\\site-packages (from gymnasium) (0.0.4)\n",
      "Note: you may need to restart the kernel to use updated packages.\n"
     ]
    }
   ],
   "source": [
    "%pip install gymnasium"
   ]
  },
  {
   "cell_type": "markdown",
   "metadata": {},
   "source": [
    "Import Dependencies"
   ]
  },
  {
   "cell_type": "code",
   "execution_count": 5,
   "metadata": {},
   "outputs": [],
   "source": [
    "from mss import mss\n",
    "import pydirectinput\n",
    "import cv2\n",
    "import numpy as np\n",
    "import pytesseract\n",
    "from matplotlib import pyplot as plt\n",
    "import time\n",
    "from gymnasium import Env\n",
    "from gymnasium.spaces import Box, Discrete\n",
    "import os\n",
    "from stable_baselines3.common.callbacks import BaseCallback\n",
    "from stable_baselines3 import DQN\n"
   ]
  },
  {
   "cell_type": "markdown",
   "metadata": {},
   "source": [
    "Constants"
   ]
  },
  {
   "cell_type": "code",
   "execution_count": 6,
   "metadata": {},
   "outputs": [],
   "source": [
    "SPACE_ACTION = 'space'\n",
    "DOWN_ACTION = 'down'\n",
    "NO_OP_ACTION = 'no_op'\n",
    "GAME_OVER_POSSIBLE_STRING_DETECTIONS = ['GAME', 'GAHE']\n",
    "CHECKPOINT_DIR = './train/'\n",
    "LOG_DIR = './logs/'\n",
    "CALLBACK_CHECK_FREQ = 1000\n",
    "VERBOSE = 1\n",
    "DQN_POLICY = 'CnnPolicy'\n",
    "DQN_BUFFER_SIZE = 300000\n",
    "DQN_LEARNING_STARTS = 1000"
   ]
  },
  {
   "cell_type": "markdown",
   "metadata": {},
   "source": [
    "Creating the Env"
   ]
  },
  {
   "cell_type": "code",
   "execution_count": 7,
   "metadata": {},
   "outputs": [],
   "source": [
    "class DinoGame(Env):\n",
    "    def __init__(self):\n",
    "        super().__init__()\n",
    "\n",
    "        self.observation_space = Box(low=0, high=255, shape=(1,83,100), dtype=np.uint8)\n",
    "        self.action_space = Discrete(3)\n",
    "\n",
    "        self.cap = mss()\n",
    "        self.game_location = {'top': 300, 'left': 0, 'width': 600, 'height': 500}\n",
    "        self.game_over_location = {'top': 405, 'left': 630, 'width': 660, 'height': 70}\n",
    "\n",
    "    def step(self, action):\n",
    "        action_map = {\n",
    "            0: SPACE_ACTION,\n",
    "            1: DOWN_ACTION,\n",
    "            2: GAME_OVER_POSSIBLE_STRING_DETECTIONS\n",
    "        }\n",
    "\n",
    "        if action != 2:\n",
    "            pydirectinput.press(action_map[action])\n",
    "        \n",
    "        game_over = self.get_game_over()\n",
    "        new_observation = self.get_observation()\n",
    "\n",
    "        reward = 1\n",
    "        info = {}\n",
    "\n",
    "        return new_observation, reward, game_over, info\n",
    "\n",
    "    def render(self):\n",
    "        cv2.imshow(\"Game\", np.array(self.cap.grab(self.game_location)))[:,:,:3]\n",
    "        if cv2.waitKey(1) & 0xFF == ord('q'):\n",
    "            self.close_observation\n",
    "\n",
    "    def close_observation(self):\n",
    "        cv2.destroyAllWindows()\n",
    "\n",
    "    def reset(self):\n",
    "        time.sleep(1)\n",
    "        pydirectinput.click(x=150, y=150)\n",
    "        pydirectinput.press('space')\n",
    "        return self.get_observation()\n",
    "\n",
    "    def get_observation(self):\n",
    "        raw = np.array(self.cap.grab(self.game_location))[:,:,:3]\n",
    "        gray = cv2.cvtColor(raw, cv2.COLOR_BGR2GRAY)\n",
    "        resized = cv2.resize(gray, (100,83))\n",
    "        channel = np.reshape(resized, (1,83,100))\n",
    "        return channel\n",
    "        \n",
    "    def get_game_over(self):\n",
    "        game_over_cap = np.array(self.cap.grab(self.game_over_location))[:,:,:3]\n",
    "        \n",
    "        game_over = False\n",
    "\n",
    "        string_detection = pytesseract.image_to_string(game_over_cap)[:4]\n",
    "        if string_detection in GAME_OVER_POSSIBLE_STRING_DETECTIONS:\n",
    "            game_over = True\n",
    "\n",
    "        return game_over\n"
   ]
  },
  {
   "cell_type": "code",
   "execution_count": 8,
   "metadata": {},
   "outputs": [
    {
     "data": {
      "text/plain": [
       "<matplotlib.image.AxesImage at 0x1b5a32f6f50>"
      ]
     },
     "execution_count": 8,
     "metadata": {},
     "output_type": "execute_result"
    },
    {
     "data": {
      "image/png": "[encoded data removed]",
      "text/plain": [
       "<Figure size 640x480 with 1 Axes>"
      ]
     },
     "metadata": {},
     "output_type": "display_data"
    }
   ],
   "source": [
    "env = DinoGame()\n",
    "\n",
    "obs = env.get_observation()\n",
    "plt.imshow(obs[0])"
   ]
  }
 ],
 "metadata": {
  "kernelspec": {
   "display_name": "Python 3",
   "language": "python",
   "name": "python3"
  },
  "language_info": {
   "codemirror_mode": {
    "name": "ipython",
    "version": 3
   },
   "file_extension": ".py",
   "mimetype": "text/x-python",
   "name": "python",
   "nbconvert_exporter": "python",
   "pygments_lexer": "ipython3",
   "version": "3.11.4"
  },
  "orig_nbformat": 4
 },
 "nbformat": 4,
 "nbformat_minor": 2
}
