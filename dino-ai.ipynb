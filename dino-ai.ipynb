{
 "cells": [
  {
   "cell_type": "markdown",
   "metadata": {},
   "source": [
    "Install Dependencies"
   ]
  },
  {
   "cell_type": "code",
   "execution_count": null,
   "metadata": {},
   "outputs": [],
   "source": [
    "%pip install torch torchvision torchaudio --index-url https://download.pytorch.org/whl/cu117"
   ]
  },
  {
   "cell_type": "code",
   "execution_count": null,
   "metadata": {},
   "outputs": [],
   "source": [
    "%pip install stable-baselines3[extra] protobuf==3.20.*"
   ]
  },
  {
   "cell_type": "code",
   "execution_count": null,
   "metadata": {},
   "outputs": [],
   "source": [
    "%pip install mss pydirectinput pytesseract tesseract"
   ]
  },
  {
   "cell_type": "code",
   "execution_count": null,
   "metadata": {},
   "outputs": [],
   "source": [
    "%pip install gymnasium"
   ]
  },
  {
   "cell_type": "markdown",
   "metadata": {},
   "source": [
    "Import Dependencies"
   ]
  },
  {
   "cell_type": "code",
   "execution_count": null,
   "metadata": {},
   "outputs": [],
   "source": [
    "from mss import mss\n",
    "import pydirectinput\n",
    "import cv2\n",
    "import numpy as np\n",
    "import pytesseract\n",
    "from matplotlib import pyplot as plt\n",
    "import time\n",
    "from gymnasium import Env\n",
    "from gymnasium.spaces import Box, Discrete\n",
    "import os\n",
    "from stable_baselines3.common.callbacks import BaseCallback\n",
    "from stable_baselines3 import DQN\n"
   ]
  },
  {
   "cell_type": "markdown",
   "metadata": {},
   "source": [
    "Constants"
   ]
  },
  {
   "cell_type": "code",
   "execution_count": null,
   "metadata": {},
   "outputs": [],
   "source": [
    "SPACE_ACTION = 'space'\n",
    "DOWN_ACTION = 'down'\n",
    "NO_OP_ACTION = 'no_op'\n",
    "GAME_OVER_POSSIBLE_STRING_DETECTIONS = ['GAME', 'GAHE']\n",
    "CHECKPOINT_DIR = './train/'\n",
    "LOG_DIR = './logs/'\n",
    "CALLBACK_CHECK_FREQ = 8000\n",
    "VERBOSE = 1\n",
    "DQN_POLICY = 'CnnPolicy'\n",
    "DQN_BUFFER_SIZE = 10000\n",
    "DQN_LEARNING_STARTS = 880\n",
    "DQN_TOTAL_TIMESTEPS = 88000"
   ]
  },
  {
   "cell_type": "markdown",
   "metadata": {},
   "source": [
    "Creating the Env"
   ]
  },
  {
   "cell_type": "code",
   "execution_count": 85,
   "metadata": {},
   "outputs": [],
   "source": [
    "class DinoGame(Env):\n",
    "    def __init__(self):\n",
    "        super().__init__()\n",
    "\n",
    "        self.observation_space = Box(low=0, high=255, shape=(1,83,100), dtype=np.uint8)\n",
    "        self.action_space = Discrete(3)\n",
    "\n",
    "        self.cap = mss()\n",
    "        self.game_location = {'top': 300, 'left': 0, 'width': 900, 'height': 500}\n",
    "        self.game_over_location = {'top': 405, 'left': 630, 'width': 660, 'height': 70}\n",
    "\n",
    "    def step(self, action):\n",
    "        action_map = {\n",
    "            0: SPACE_ACTION,\n",
    "            1: DOWN_ACTION,\n",
    "            2: GAME_OVER_POSSIBLE_STRING_DETECTIONS\n",
    "        }\n",
    "\n",
    "        if action != 2:\n",
    "            pydirectinput.press(action_map[action])\n",
    "        \n",
    "        game_over = self.get_game_over()\n",
    "        new_observation = self.get_observation()\n",
    "\n",
    "        reward = 1\n",
    "        truncated = 1\n",
    "        info = {}\n",
    "\n",
    "        return new_observation, reward, game_over, truncated, info\n",
    "\n",
    "    def render(self):\n",
    "        cv2.imshow(\"Game\", np.array(self.cap.grab(self.game_location)))[:,:,:3]\n",
    "        if cv2.waitKey(1) & 0xFF == ord('q'):\n",
    "            self.close_observation\n",
    "\n",
    "    def close_observation(self):\n",
    "        cv2.destroyAllWindows()\n",
    "\n",
    "    def reset(self, seed=None):\n",
    "        time.sleep(2)\n",
    "        pydirectinput.press('space')\n",
    "        return self.get_observation(), seed\n",
    "\n",
    "    def get_observation(self):\n",
    "        raw = np.array(self.cap.grab(self.game_location))[:,:,:3]\n",
    "        gray = cv2.cvtColor(raw, cv2.COLOR_BGR2GRAY)\n",
    "        resized = cv2.resize(gray, (100,83))\n",
    "        channel = np.reshape(resized, (1,83,100))\n",
    "        \n",
    "        return channel\n",
    "        \n",
    "    def get_game_over(self):\n",
    "        game_over_cap = np.array(self.cap.grab(self.game_over_location))[:,:,:3]\n",
    "        \n",
    "        game_over = False\n",
    "\n",
    "        string_detection = pytesseract.image_to_string(game_over_cap)[:4]\n",
    "        if string_detection in GAME_OVER_POSSIBLE_STRING_DETECTIONS:\n",
    "            game_over = True\n",
    "\n",
    "        return game_over\n"
   ]
  },
  {
   "cell_type": "code",
   "execution_count": 86,
   "metadata": {},
   "outputs": [
    {
     "data": {
      "text/plain": [
       "<matplotlib.image.AxesImage at 0x185cce9ecd0>"
      ]
     },
     "execution_count": 86,
     "metadata": {},
     "output_type": "execute_result"
    },
    {
     "data": {
      "image/png": "[encoded data removed]",
      "text/plain": [
       "<Figure size 640x480 with 1 Axes>"
      ]
     },
     "metadata": {},
     "output_type": "display_data"
    }
   ],
   "source": [
    "env = DinoGame()\n",
    "\n",
    "obs = env.get_observation()\n",
    "plt.imshow(obs[0])"
   ]
  },
  {
   "cell_type": "markdown",
   "metadata": {},
   "source": [
    "Creating Callback"
   ]
  },
  {
   "cell_type": "code",
   "execution_count": 74,
   "metadata": {},
   "outputs": [],
   "source": [
    "class TrainAndLoggingCallback(BaseCallback):\n",
    "    def __init__(self, check_freq, save_path, verbose=VERBOSE):\n",
    "        super(TrainAndLoggingCallback, self).__init__(verbose)\n",
    "        self.check_freq = check_freq\n",
    "        self.save_path = save_path\n",
    "\n",
    "    def _init_callback(self):\n",
    "        if self.save_path is not None:\n",
    "            os.makedirs(self.save_path, exist_ok=True)\n",
    "    \n",
    "    def _on_step(self):\n",
    "        if self.n_calls % self.check_freq == 0:\n",
    "            model_path = os.path.join(self.save_path, 'best_model{}'.format(self.n_calls))\n",
    "            self.model.save(model_path)\n",
    "\n",
    "        return True"
   ]
  },
  {
   "cell_type": "code",
   "execution_count": 75,
   "metadata": {},
   "outputs": [],
   "source": [
    "callback = TrainAndLoggingCallback(check_freq=CALLBACK_CHECK_FREQ, save_path=CHECKPOINT_DIR)"
   ]
  },
  {
   "cell_type": "markdown",
   "metadata": {},
   "source": [
    "Building DQN and Train"
   ]
  },
  {
   "cell_type": "code",
   "execution_count": 76,
   "metadata": {},
   "outputs": [
    {
     "name": "stdout",
     "output_type": "stream",
     "text": [
      "Using cuda device\n",
      "Wrapping the env with a `Monitor` wrapper\n",
      "Wrapping the env in a DummyVecEnv.\n"
     ]
    }
   ],
   "source": [
    "model = DQN(DQN_POLICY, env, tensorboard_log = LOG_DIR, verbose=VERBOSE, buffer_size=DQN_BUFFER_SIZE, learning_starts=DQN_LEARNING_STARTS)"
   ]
  },
  {
   "cell_type": "code",
   "execution_count": 77,
   "metadata": {},
   "outputs": [
    {
     "data": {
      "text/plain": [
       "<stable_baselines3.dqn.dqn.DQN at 0x185cc3efe90>"
      ]
     },
     "execution_count": 77,
     "metadata": {},
     "output_type": "execute_result"
    }
   ],
   "source": [
    "#model.learn(total_timesteps=DQN_TOTAL_TIMESTEPS, callback=callback)  \n",
    "model = DQN.load('best_model.zip')\n",
    "model\n"
   ]
  },
  {
   "cell_type": "code",
   "execution_count": 88,
   "metadata": {},
   "outputs": [
    {
     "ename": "ValueError",
     "evalue": "axes don't match array",
     "output_type": "error",
     "traceback": [
      "\u001b[1;31m---------------------------------------------------------------------------\u001b[0m",
      "\u001b[1;31mValueError\u001b[0m                                Traceback (most recent call last)",
      "\u001b[1;32mc:\\Users\\Henrique Bidarte\\Documents\\Henrique\\Programação\\git\\dino-ai\\dino-ai.ipynb Cell 19\u001b[0m line \u001b[0;36m7\n\u001b[0;32m      <a href='vscode-notebook-cell:/c%3A/Users/Henrique%20Bidarte/Documents/Henrique/Programa%C3%A7%C3%A3o/git/dino-ai/dino-ai.ipynb#X25sZmlsZQ%3D%3D?line=3'>4</a>\u001b[0m total_reward \u001b[39m=\u001b[39m \u001b[39m0\u001b[39m\n\u001b[0;32m      <a href='vscode-notebook-cell:/c%3A/Users/Henrique%20Bidarte/Documents/Henrique/Programa%C3%A7%C3%A3o/git/dino-ai/dino-ai.ipynb#X25sZmlsZQ%3D%3D?line=5'>6</a>\u001b[0m \u001b[39mwhile\u001b[39;00m \u001b[39mnot\u001b[39;00m game_over:\n\u001b[1;32m----> <a href='vscode-notebook-cell:/c%3A/Users/Henrique%20Bidarte/Documents/Henrique/Programa%C3%A7%C3%A3o/git/dino-ai/dino-ai.ipynb#X25sZmlsZQ%3D%3D?line=6'>7</a>\u001b[0m     action, _ \u001b[39m=\u001b[39m model\u001b[39m.\u001b[39;49mpredict(obs[\u001b[39m0\u001b[39;49m], deterministic\u001b[39m=\u001b[39;49m\u001b[39mTrue\u001b[39;49;00m)\n\u001b[0;32m      <a href='vscode-notebook-cell:/c%3A/Users/Henrique%20Bidarte/Documents/Henrique/Programa%C3%A7%C3%A3o/git/dino-ai/dino-ai.ipynb#X25sZmlsZQ%3D%3D?line=7'>8</a>\u001b[0m     obs, reward, game_over, truncated, info \u001b[39m=\u001b[39m env\u001b[39m.\u001b[39mstep(\u001b[39mint\u001b[39m(action))\n\u001b[0;32m      <a href='vscode-notebook-cell:/c%3A/Users/Henrique%20Bidarte/Documents/Henrique/Programa%C3%A7%C3%A3o/git/dino-ai/dino-ai.ipynb#X25sZmlsZQ%3D%3D?line=8'>9</a>\u001b[0m     total_reward \u001b[39m+\u001b[39m\u001b[39m=\u001b[39m reward\n",
      "File \u001b[1;32mc:\\Users\\Henrique Bidarte\\AppData\\Local\\Programs\\Python\\Python311\\Lib\\site-packages\\stable_baselines3\\dqn\\dqn.py:255\u001b[0m, in \u001b[0;36mDQN.predict\u001b[1;34m(self, observation, state, episode_start, deterministic)\u001b[0m\n\u001b[0;32m    253\u001b[0m         action \u001b[39m=\u001b[39m np\u001b[39m.\u001b[39marray(\u001b[39mself\u001b[39m\u001b[39m.\u001b[39maction_space\u001b[39m.\u001b[39msample())\n\u001b[0;32m    254\u001b[0m \u001b[39melse\u001b[39;00m:\n\u001b[1;32m--> 255\u001b[0m     action, state \u001b[39m=\u001b[39m \u001b[39mself\u001b[39;49m\u001b[39m.\u001b[39;49mpolicy\u001b[39m.\u001b[39;49mpredict(observation, state, episode_start, deterministic)\n\u001b[0;32m    256\u001b[0m \u001b[39mreturn\u001b[39;00m action, state\n",
      "File \u001b[1;32mc:\\Users\\Henrique Bidarte\\AppData\\Local\\Programs\\Python\\Python311\\Lib\\site-packages\\stable_baselines3\\common\\policies.py:346\u001b[0m, in \u001b[0;36mBasePolicy.predict\u001b[1;34m(self, observation, state, episode_start, deterministic)\u001b[0m\n\u001b[0;32m    343\u001b[0m \u001b[39m# Switch to eval mode (this affects batch norm / dropout)\u001b[39;00m\n\u001b[0;32m    344\u001b[0m \u001b[39mself\u001b[39m\u001b[39m.\u001b[39mset_training_mode(\u001b[39mFalse\u001b[39;00m)\n\u001b[1;32m--> 346\u001b[0m observation, vectorized_env \u001b[39m=\u001b[39m \u001b[39mself\u001b[39;49m\u001b[39m.\u001b[39;49mobs_to_tensor(observation)\n\u001b[0;32m    348\u001b[0m \u001b[39mwith\u001b[39;00m th\u001b[39m.\u001b[39mno_grad():\n\u001b[0;32m    349\u001b[0m     actions \u001b[39m=\u001b[39m \u001b[39mself\u001b[39m\u001b[39m.\u001b[39m_predict(observation, deterministic\u001b[39m=\u001b[39mdeterministic)\n",
      "File \u001b[1;32mc:\\Users\\Henrique Bidarte\\AppData\\Local\\Programs\\Python\\Python311\\Lib\\site-packages\\stable_baselines3\\common\\policies.py:257\u001b[0m, in \u001b[0;36mBaseModel.obs_to_tensor\u001b[1;34m(self, observation)\u001b[0m\n\u001b[0;32m    252\u001b[0m         observation[key] \u001b[39m=\u001b[39m obs_\u001b[39m.\u001b[39mreshape((\u001b[39m-\u001b[39m\u001b[39m1\u001b[39m, \u001b[39m*\u001b[39m\u001b[39mself\u001b[39m\u001b[39m.\u001b[39mobservation_space[key]\u001b[39m.\u001b[39mshape))\n\u001b[0;32m    254\u001b[0m \u001b[39melif\u001b[39;00m is_image_space(\u001b[39mself\u001b[39m\u001b[39m.\u001b[39mobservation_space):\n\u001b[0;32m    255\u001b[0m     \u001b[39m# Handle the different cases for images\u001b[39;00m\n\u001b[0;32m    256\u001b[0m     \u001b[39m# as PyTorch use channel first format\u001b[39;00m\n\u001b[1;32m--> 257\u001b[0m     observation \u001b[39m=\u001b[39m maybe_transpose(observation, \u001b[39mself\u001b[39;49m\u001b[39m.\u001b[39;49mobservation_space)\n\u001b[0;32m    259\u001b[0m \u001b[39melse\u001b[39;00m:\n\u001b[0;32m    260\u001b[0m     observation \u001b[39m=\u001b[39m np\u001b[39m.\u001b[39marray(observation)\n",
      "File \u001b[1;32mc:\\Users\\Henrique Bidarte\\AppData\\Local\\Programs\\Python\\Python311\\Lib\\site-packages\\stable_baselines3\\common\\preprocessing.py:86\u001b[0m, in \u001b[0;36mmaybe_transpose\u001b[1;34m(observation, observation_space)\u001b[0m\n\u001b[0;32m     83\u001b[0m \u001b[39mif\u001b[39;00m is_image_space(observation_space):\n\u001b[0;32m     84\u001b[0m     \u001b[39mif\u001b[39;00m \u001b[39mnot\u001b[39;00m (observation\u001b[39m.\u001b[39mshape \u001b[39m==\u001b[39m observation_space\u001b[39m.\u001b[39mshape \u001b[39mor\u001b[39;00m observation\u001b[39m.\u001b[39mshape[\u001b[39m1\u001b[39m:] \u001b[39m==\u001b[39m observation_space\u001b[39m.\u001b[39mshape):\n\u001b[0;32m     85\u001b[0m         \u001b[39m# Try to re-order the channels\u001b[39;00m\n\u001b[1;32m---> 86\u001b[0m         transpose_obs \u001b[39m=\u001b[39m VecTransposeImage\u001b[39m.\u001b[39;49mtranspose_image(observation)\n\u001b[0;32m     87\u001b[0m         \u001b[39mif\u001b[39;00m transpose_obs\u001b[39m.\u001b[39mshape \u001b[39m==\u001b[39m observation_space\u001b[39m.\u001b[39mshape \u001b[39mor\u001b[39;00m transpose_obs\u001b[39m.\u001b[39mshape[\u001b[39m1\u001b[39m:] \u001b[39m==\u001b[39m observation_space\u001b[39m.\u001b[39mshape:\n\u001b[0;32m     88\u001b[0m             observation \u001b[39m=\u001b[39m transpose_obs\n",
      "File \u001b[1;32mc:\\Users\\Henrique Bidarte\\AppData\\Local\\Programs\\Python\\Python311\\Lib\\site-packages\\stable_baselines3\\common\\vec_env\\vec_transpose.py:72\u001b[0m, in \u001b[0;36mVecTransposeImage.transpose_image\u001b[1;34m(image)\u001b[0m\n\u001b[0;32m     70\u001b[0m \u001b[39mif\u001b[39;00m \u001b[39mlen\u001b[39m(image\u001b[39m.\u001b[39mshape) \u001b[39m==\u001b[39m \u001b[39m3\u001b[39m:\n\u001b[0;32m     71\u001b[0m     \u001b[39mreturn\u001b[39;00m np\u001b[39m.\u001b[39mtranspose(image, (\u001b[39m2\u001b[39m, \u001b[39m0\u001b[39m, \u001b[39m1\u001b[39m))\n\u001b[1;32m---> 72\u001b[0m \u001b[39mreturn\u001b[39;00m np\u001b[39m.\u001b[39;49mtranspose(image, (\u001b[39m0\u001b[39;49m, \u001b[39m3\u001b[39;49m, \u001b[39m1\u001b[39;49m, \u001b[39m2\u001b[39;49m))\n",
      "File \u001b[1;32m<__array_function__ internals>:200\u001b[0m, in \u001b[0;36mtranspose\u001b[1;34m(*args, **kwargs)\u001b[0m\n",
      "File \u001b[1;32mc:\\Users\\Henrique Bidarte\\AppData\\Local\\Programs\\Python\\Python311\\Lib\\site-packages\\numpy\\core\\fromnumeric.py:668\u001b[0m, in \u001b[0;36mtranspose\u001b[1;34m(a, axes)\u001b[0m\n\u001b[0;32m    601\u001b[0m \u001b[39m@array_function_dispatch\u001b[39m(_transpose_dispatcher)\n\u001b[0;32m    602\u001b[0m \u001b[39mdef\u001b[39;00m \u001b[39mtranspose\u001b[39m(a, axes\u001b[39m=\u001b[39m\u001b[39mNone\u001b[39;00m):\n\u001b[0;32m    603\u001b[0m \u001b[39m    \u001b[39m\u001b[39m\"\"\"\u001b[39;00m\n\u001b[0;32m    604\u001b[0m \u001b[39m    Returns an array with axes transposed.\u001b[39;00m\n\u001b[0;32m    605\u001b[0m \n\u001b[1;32m   (...)\u001b[0m\n\u001b[0;32m    666\u001b[0m \n\u001b[0;32m    667\u001b[0m \u001b[39m    \"\"\"\u001b[39;00m\n\u001b[1;32m--> 668\u001b[0m     \u001b[39mreturn\u001b[39;00m _wrapfunc(a, \u001b[39m'\u001b[39;49m\u001b[39mtranspose\u001b[39;49m\u001b[39m'\u001b[39;49m, axes)\n",
      "File \u001b[1;32mc:\\Users\\Henrique Bidarte\\AppData\\Local\\Programs\\Python\\Python311\\Lib\\site-packages\\numpy\\core\\fromnumeric.py:57\u001b[0m, in \u001b[0;36m_wrapfunc\u001b[1;34m(obj, method, *args, **kwds)\u001b[0m\n\u001b[0;32m     54\u001b[0m     \u001b[39mreturn\u001b[39;00m _wrapit(obj, method, \u001b[39m*\u001b[39margs, \u001b[39m*\u001b[39m\u001b[39m*\u001b[39mkwds)\n\u001b[0;32m     56\u001b[0m \u001b[39mtry\u001b[39;00m:\n\u001b[1;32m---> 57\u001b[0m     \u001b[39mreturn\u001b[39;00m bound(\u001b[39m*\u001b[39;49margs, \u001b[39m*\u001b[39;49m\u001b[39m*\u001b[39;49mkwds)\n\u001b[0;32m     58\u001b[0m \u001b[39mexcept\u001b[39;00m \u001b[39mTypeError\u001b[39;00m:\n\u001b[0;32m     59\u001b[0m     \u001b[39m# A TypeError occurs if the object does have such a method in its\u001b[39;00m\n\u001b[0;32m     60\u001b[0m     \u001b[39m# class, but its signature is not identical to that of NumPy's. This\u001b[39;00m\n\u001b[1;32m   (...)\u001b[0m\n\u001b[0;32m     64\u001b[0m     \u001b[39m# Call _wrapit from within the except clause to ensure a potential\u001b[39;00m\n\u001b[0;32m     65\u001b[0m     \u001b[39m# exception has a traceback chain.\u001b[39;00m\n\u001b[0;32m     66\u001b[0m     \u001b[39mreturn\u001b[39;00m _wrapit(obj, method, \u001b[39m*\u001b[39margs, \u001b[39m*\u001b[39m\u001b[39m*\u001b[39mkwds)\n",
      "\u001b[1;31mValueError\u001b[0m: axes don't match array"
     ]
    }
   ],
   "source": [
    "for episode in range(3):\n",
    "    obs, _ = env.reset()\n",
    "    game_over = False\n",
    "    total_reward = 0\n",
    "\n",
    "    while not game_over:\n",
    "        action, _ = model.predict(obs[0], deterministic=True)\n",
    "        obs, reward, game_over, truncated, info = env.step(int(action))\n",
    "        total_reward += reward\n",
    "    print(f'Total Reward for episode {episode} is {total_reward}')"
   ]
  }
 ],
 "metadata": {
  "kernelspec": {
   "display_name": "Python 3",
   "language": "python",
   "name": "python3"
  },
  "language_info": {
   "codemirror_mode": {
    "name": "ipython",
    "version": 3
   },
   "file_extension": ".py",
   "mimetype": "text/x-python",
   "name": "python",
   "nbconvert_exporter": "python",
   "pygments_lexer": "ipython3",
   "version": "3.11.4"
  },
  "orig_nbformat": 4
 },
 "nbformat": 4,
 "nbformat_minor": 2
}
